{
 "cells": [
  {
   "cell_type": "markdown",
   "metadata": {},
   "source": [
    "This is a code in an unofficial walkthrough of the Expectation Maximization algorithm in Figure 1 of\n",
    "\n",
    "Do, C. B., & Batzoglou, S. (2008). What is the expectation maximization algorithm? Nature Biotechnology, 26(8), 897–899. http://doi.org/10.1038/nbt1406\n",
    "\n",
    "I wanted to better understand what exactly the expectation maximization algorithm was doing at an intuitive level, as most of the abstract and purely mathematical explanations I had watched on youtube or read online weren't clicking. I've always found there is no better way to learn something than to try it until it works and makes sense.\n",
    "\n",
    "If you have access to the original paper, I highly recommend reading it, as I'm sure this will make much more sense after reading the authors original words and explanation"
   ]
  },
  {
   "cell_type": "markdown",
   "metadata": {},
   "source": [
    "![](header.png)"
   ]
  },
  {
   "cell_type": "markdown",
   "metadata": {},
   "source": [
    "And, as mentioned earlier, we will focus on the lone figure of the paper, and work through the iterations step by step. Here is the full figure. Try and walk through it mentally, and see which parts you can understand directly from the figure, and make a mental note of which steps don't make sense. During the walk through, come back to these original ideas and see which parts you were correct on, and see if the code helps the unclear steps make sense"
   ]
  },
  {
   "cell_type": "markdown",
   "metadata": {},
   "source": [
    "![](Figure1_with_caption.png)"
   ]
  },
  {
   "cell_type": "code",
   "execution_count": 1,
   "metadata": {},
   "outputs": [],
   "source": [
    "import pandas as pd"
   ]
  },
  {
   "cell_type": "markdown",
   "metadata": {},
   "source": [
    "### The Observed Data\n",
    "\n",
    "Here is the table from Figure 1 that shows the true underlying data.\n",
    "![](coin_table.png)\n",
    "\n",
    "If we could observe which coin was used for each round, we could compute the true probability of each coin\n",
    "![](true_data.png)\n",
    "\n",
    "However, in the event we are unable to know which coin was used in each trial, we would like to approximate the maximum likelihood probabilities of the two coins\n",
    "\n",
    "Let's set up a DataFrame in Julia that represents this"
   ]
  },
  {
   "cell_type": "code",
   "execution_count": 3,
   "metadata": {},
   "outputs": [
    {
     "data": {
      "text/html": [
       "<div>\n",
       "<style scoped>\n",
       "    .dataframe tbody tr th:only-of-type {\n",
       "        vertical-align: middle;\n",
       "    }\n",
       "\n",
       "    .dataframe tbody tr th {\n",
       "        vertical-align: top;\n",
       "    }\n",
       "\n",
       "    .dataframe thead th {\n",
       "        text-align: right;\n",
       "    }\n",
       "</style>\n",
       "<table border=\"1\" class=\"dataframe\">\n",
       "  <thead>\n",
       "    <tr style=\"text-align: right;\">\n",
       "      <th></th>\n",
       "      <th>COIN</th>\n",
       "      <th>FLIPS</th>\n",
       "    </tr>\n",
       "  </thead>\n",
       "  <tbody>\n",
       "    <tr>\n",
       "      <th>0</th>\n",
       "      <td>B</td>\n",
       "      <td>HTTTHHTHTH</td>\n",
       "    </tr>\n",
       "    <tr>\n",
       "      <th>1</th>\n",
       "      <td>A</td>\n",
       "      <td>HHHHTHHHHH</td>\n",
       "    </tr>\n",
       "    <tr>\n",
       "      <th>2</th>\n",
       "      <td>A</td>\n",
       "      <td>HTHHHHHTHH</td>\n",
       "    </tr>\n",
       "    <tr>\n",
       "      <th>3</th>\n",
       "      <td>B</td>\n",
       "      <td>HTHTTTHHTT</td>\n",
       "    </tr>\n",
       "    <tr>\n",
       "      <th>4</th>\n",
       "      <td>A</td>\n",
       "      <td>THHHTHHHTH</td>\n",
       "    </tr>\n",
       "  </tbody>\n",
       "</table>\n",
       "</div>"
      ],
      "text/plain": [
       "  COIN       FLIPS\n",
       "0    B  HTTTHHTHTH\n",
       "1    A  HHHHTHHHHH\n",
       "2    A  HTHHHHHTHH\n",
       "3    B  HTHTTTHHTT\n",
       "4    A  THHHTHHHTH"
      ]
     },
     "execution_count": 3,
     "metadata": {},
     "output_type": "execute_result"
    }
   ],
   "source": [
    "Data = {\n",
    "    'COIN' : ['B', 'A', 'A', 'B', 'A'],\n",
    "    'FLIPS' : ['HTTTHHTHTH', 'HHHHTHHHHH', 'HTHHHHHTHH', 'HTHTTTHHTT', 'THHHTHHHTH']\n",
    "}\n",
    "Data = pd.DataFrame(Data)\n",
    "Data"
   ]
  },
  {
   "cell_type": "markdown",
   "metadata": {},
   "source": [
    "We have included the true state of the coin, however, we will blind ourselves to that knowledge and proceed as if we could not observe true state of each coin used. We can however observe the resulting flip data. Let's go ahead and precompute the number of heads and tails for each trial for easier calculations later. I'll break down the steps first though."
   ]
  },
  {
   "cell_type": "markdown",
   "metadata": {},
   "source": [
    "The countmap function takes an iterable, like a list, and counts the number of occurances of each unique value in the iterable.\n",
    "\n",
    "Our trials are currently in the form of a string"
   ]
  },
  {
   "cell_type": "code",
   "execution_count": 4,
   "metadata": {},
   "outputs": [
    {
     "data": {
      "text/plain": [
       "'HTTTHHTHTH'"
      ]
     },
     "execution_count": 4,
     "metadata": {},
     "output_type": "execute_result"
    }
   ],
   "source": [
    "Data['FLIPS'][0]"
   ]
  },
  {
   "cell_type": "markdown",
   "metadata": {},
   "source": [
    "Now let's turn it into a list by taking a list comprehension on it.\n",
    "\n",
    "The ' operator on the end is the transpose operator. It simply coverts the array from long, columnar form to wide, row form and makes it cleaner to print to the console"
   ]
  },
  {
   "cell_type": "code",
   "execution_count": 5,
   "metadata": {},
   "outputs": [
    {
     "data": {
      "text/plain": [
       "[0, 1, 2, 3]"
      ]
     },
     "execution_count": 5,
     "metadata": {},
     "output_type": "execute_result"
    }
   ],
   "source": [
    "[a for a in range(4)]"
   ]
  },
  {
   "cell_type": "code",
   "execution_count": 6,
   "metadata": {},
   "outputs": [
    {
     "data": {
      "text/plain": [
       "['H', 'T', 'T', 'T', 'H', 'H', 'T', 'H', 'T', 'H']"
      ]
     },
     "execution_count": 6,
     "metadata": {},
     "output_type": "execute_result"
    }
   ],
   "source": [
    "[flip for flip in Data['FLIPS'][0]]"
   ]
  },
  {
   "cell_type": "markdown",
   "metadata": {},
   "source": [
    "now we can wrap that in a countmap call to get a dictionary of counts for heads and tails"
   ]
  },
  {
   "cell_type": "code",
   "execution_count": 7,
   "metadata": {},
   "outputs": [],
   "source": [
    "from collections import Counter"
   ]
  },
  {
   "cell_type": "code",
   "execution_count": 8,
   "metadata": {},
   "outputs": [
    {
     "name": "stdout",
     "output_type": "stream",
     "text": [
      "Counter({'H': 5, 'T': 5})\n",
      "0    HTTTHHTHTH\n",
      "1    HHHHTHHHHH\n",
      "2    HTHHHHHTHH\n",
      "3    HTHTTTHHTT\n",
      "4    THHHTHHHTH\n",
      "Name: FLIPS, dtype: object\n"
     ]
    },
    {
     "data": {
      "text/plain": [
       "5"
      ]
     },
     "execution_count": 8,
     "metadata": {},
     "output_type": "execute_result"
    }
   ],
   "source": [
    "test = Counter([flip for flip in Data['FLIPS'][0]])\n",
    "print(test)\n",
    "list1 = dict(Counter([flip for flip in Data['FLIPS'][0]]))\n",
    "print(Data['FLIPS'])\n",
    "list1['H']"
   ]
  },
  {
   "cell_type": "code",
   "execution_count": 9,
   "metadata": {},
   "outputs": [
    {
     "name": "stdout",
     "output_type": "stream",
     "text": [
      "[5, 9, 8, 4, 7]\n"
     ]
    }
   ],
   "source": [
    "l1=[]\n",
    "for i in range(len(Data['FLIPS'])):\n",
    "#     l1.append(Data['FLIPS'][i])\n",
    "    l1.append(dict(Counter([flip for flip in Data['FLIPS'][i]]))['H'])\n",
    "print(l1)"
   ]
  },
  {
   "cell_type": "markdown",
   "metadata": {},
   "source": [
    "and to get the numbers of heads and tails, we just need to do a dictionary look up with `['H']` and `['T']`"
   ]
  },
  {
   "cell_type": "markdown",
   "metadata": {},
   "source": [
    "now we are ready to do the same steps as above, but use the map function to perform the calculations on every trial in the experiment, which we can do with the map function"
   ]
  },
  {
   "cell_type": "code",
   "execution_count": 10,
   "metadata": {},
   "outputs": [
    {
     "name": "stdout",
     "output_type": "stream",
     "text": [
      "[5, 1, 2, 6, 3]\n"
     ]
    }
   ],
   "source": [
    "l2=[]\n",
    "for i in range(len(Data['FLIPS'])):\n",
    "#     l2.append(Data['FLIPS'][i])\n",
    "    l2.append(dict(Counter([flip for flip in Data['FLIPS'][i]]))['T'])\n",
    "print(l2)"
   ]
  },
  {
   "cell_type": "code",
   "execution_count": 11,
   "metadata": {},
   "outputs": [],
   "source": [
    "Data['HEADS'] = l1\n",
    "Data['TAILS'] = l2"
   ]
  },
  {
   "cell_type": "markdown",
   "metadata": {},
   "source": [
    "Here is the Data with precomupted heads and tails"
   ]
  },
  {
   "cell_type": "code",
   "execution_count": 12,
   "metadata": {},
   "outputs": [
    {
     "data": {
      "text/html": [
       "<div>\n",
       "<style scoped>\n",
       "    .dataframe tbody tr th:only-of-type {\n",
       "        vertical-align: middle;\n",
       "    }\n",
       "\n",
       "    .dataframe tbody tr th {\n",
       "        vertical-align: top;\n",
       "    }\n",
       "\n",
       "    .dataframe thead th {\n",
       "        text-align: right;\n",
       "    }\n",
       "</style>\n",
       "<table border=\"1\" class=\"dataframe\">\n",
       "  <thead>\n",
       "    <tr style=\"text-align: right;\">\n",
       "      <th></th>\n",
       "      <th>COIN</th>\n",
       "      <th>FLIPS</th>\n",
       "      <th>HEADS</th>\n",
       "      <th>TAILS</th>\n",
       "    </tr>\n",
       "  </thead>\n",
       "  <tbody>\n",
       "    <tr>\n",
       "      <th>0</th>\n",
       "      <td>B</td>\n",
       "      <td>HTTTHHTHTH</td>\n",
       "      <td>5</td>\n",
       "      <td>5</td>\n",
       "    </tr>\n",
       "    <tr>\n",
       "      <th>1</th>\n",
       "      <td>A</td>\n",
       "      <td>HHHHTHHHHH</td>\n",
       "      <td>9</td>\n",
       "      <td>1</td>\n",
       "    </tr>\n",
       "    <tr>\n",
       "      <th>2</th>\n",
       "      <td>A</td>\n",
       "      <td>HTHHHHHTHH</td>\n",
       "      <td>8</td>\n",
       "      <td>2</td>\n",
       "    </tr>\n",
       "    <tr>\n",
       "      <th>3</th>\n",
       "      <td>B</td>\n",
       "      <td>HTHTTTHHTT</td>\n",
       "      <td>4</td>\n",
       "      <td>6</td>\n",
       "    </tr>\n",
       "    <tr>\n",
       "      <th>4</th>\n",
       "      <td>A</td>\n",
       "      <td>THHHTHHHTH</td>\n",
       "      <td>7</td>\n",
       "      <td>3</td>\n",
       "    </tr>\n",
       "  </tbody>\n",
       "</table>\n",
       "</div>"
      ],
      "text/plain": [
       "  COIN       FLIPS  HEADS  TAILS\n",
       "0    B  HTTTHHTHTH      5      5\n",
       "1    A  HHHHTHHHHH      9      1\n",
       "2    A  HTHHHHHTHH      8      2\n",
       "3    B  HTHTTTHHTT      4      6\n",
       "4    A  THHHTHHHTH      7      3"
      ]
     },
     "execution_count": 12,
     "metadata": {},
     "output_type": "execute_result"
    }
   ],
   "source": [
    "Data"
   ]
  },
  {
   "cell_type": "markdown",
   "metadata": {},
   "source": [
    "Here are the values from the figure for comparison\n",
    "\n",
    "![](heads_tails.png)"
   ]
  },
  {
   "cell_type": "markdown",
   "metadata": {},
   "source": [
    "For a santiy check, let's compute the true heads probabilities of each of the coins to confirm that they match what is shown in the figure. To do this, we will compute the probabiities by computing over grouped DataFrames\n",
    "\n",
    "Here we group the DataFrame `Data` by the values in the column `COIN`, and then on each of the resulting sub DataFrames (one each for coin A and coin B), we sum the total number of heads of all trials for the given coin, and then divide that by the total number of flips for the given coin to calculate the head probability for each coin. Again, confirm this matches the probabilities in the figure"
   ]
  },
  {
   "cell_type": "code",
   "execution_count": 13,
   "metadata": {},
   "outputs": [
    {
     "name": "stdout",
     "output_type": "stream",
     "text": [
      "1    9\n",
      "2    8\n",
      "4    7\n",
      "Name: HEADS, dtype: int64\n"
     ]
    },
    {
     "data": {
      "text/plain": [
       "[0.8, 0.45]"
      ]
     },
     "execution_count": 13,
     "metadata": {},
     "output_type": "execute_result"
    }
   ],
   "source": [
    "print(Data.loc[Data['COIN']=='A']['HEADS'])\n",
    "res=[]\n",
    "res.append(sum(Data.loc[Data['COIN']=='A']['HEADS'])/(sum(Data.loc[Data['COIN']=='A']['HEADS'])+sum(Data.loc[Data['COIN']=='A']['TAILS'])))\n",
    "res.append(sum(Data.loc[Data['COIN']=='B']['HEADS'])/(sum(Data.loc[Data['COIN']=='B']['HEADS'])+sum(Data.loc[Data['COIN']=='B']['TAILS'])))\n",
    "res"
   ]
  },
  {
   "cell_type": "code",
   "execution_count": 14,
   "metadata": {},
   "outputs": [],
   "source": [
    "# by(Data, :COIN, df -> sum(df[:HEADS]) / (sum(df[:HEADS]) + sum(df[:TAILS])))"
   ]
  },
  {
   "cell_type": "markdown",
   "metadata": {},
   "source": [
    "![](original_data.png)"
   ]
  },
  {
   "cell_type": "markdown",
   "metadata": {},
   "source": [
    "Great! Now we are set up to start the algorithm. Before we can start, we need to choose initial values for the probabilties. Do & Batzoglou 2008 used $θ_A = 0.6$ and $θ_B = 0.5$\n",
    "\n",
    "![](initial_probabilities.png)\n",
    "\n",
    "We could however, choose any initial starting values. We will follow the example in the paper first. Later, I will try and use randomly drawn initial values to see if we converge to the same values"
   ]
  },
  {
   "cell_type": "code",
   "execution_count": 15,
   "metadata": {},
   "outputs": [],
   "source": [
    "θA_init = 0.6;\n",
    "θB_init = 0.5;"
   ]
  },
  {
   "cell_type": "markdown",
   "metadata": {},
   "source": [
    "Now that we have our initial states and our data, we can now evaluate the relative probabilities that each trial of 10 coin flips was generated by coin A or coin B.\n",
    "\n",
    "Again, assuming that the trails were produced by an unknown coin, our data now looks like this\n",
    "![](unassigned_coins.png)\n",
    "\n",
    "We want to assign a relative probability to each of those trials being generated by each of the possible states (coins)\n",
    "\n",
    "Here is our now unlabeled data\n",
    "![](trial_1.png)\n",
    "\n",
    "And let's see how we can grab the precomputed # of heads"
   ]
  },
  {
   "cell_type": "code",
   "execution_count": 16,
   "metadata": {},
   "outputs": [
    {
     "data": {
      "text/plain": [
       "HEADS    5\n",
       "Name: 0, dtype: object"
      ]
     },
     "execution_count": 16,
     "metadata": {},
     "output_type": "execute_result"
    }
   ],
   "source": [
    "Data.loc[0, ['HEADS']]"
   ]
  },
  {
   "cell_type": "markdown",
   "metadata": {},
   "source": [
    "and tails"
   ]
  },
  {
   "cell_type": "code",
   "execution_count": 17,
   "metadata": {},
   "outputs": [
    {
     "name": "stdout",
     "output_type": "stream",
     "text": [
      "[5]\n"
     ]
    }
   ],
   "source": [
    "da=Data.loc[0, ['TAILS']]\n",
    "print(da.values)"
   ]
  },
  {
   "cell_type": "markdown",
   "metadata": {},
   "source": [
    "Now we can think of total number of flips as being a generic total number of trials. In the same manner, we can think of the number of heads as being a generic number of successes. "
   ]
  },
  {
   "cell_type": "code",
   "execution_count": 18,
   "metadata": {},
   "outputs": [
    {
     "name": "stdout",
     "output_type": "stream",
     "text": [
      "5 10 8\n"
     ]
    }
   ],
   "source": [
    "successes = Data.loc[0, ['HEADS']].values\n",
    "successes = int(successes)\n",
    "trials = Data.loc[0, ['HEADS']].values + Data.loc[0, ['TAILS']].values\n",
    "trials = int(trials)\n",
    "print(successes, trials, 2**3)"
   ]
  },
  {
   "cell_type": "markdown",
   "metadata": {},
   "source": [
    "In this format, we can now plug the data into a generic binomial likelihood formula to calculate the likelihood of observing the given data.\n",
    "\n",
    "The formula is\n",
    "\n",
    "$$ {n \\choose k}\\theta^k (1-\\theta)^{n-k} $$\n",
    "\n",
    "where\n",
    "$$ n = \\text{# trails} $$\n",
    "$$ k = \\text{# successes} $$\n",
    "$$ \\theta = \\text{likelihood of getting a heads for a given coin} $$"
   ]
  },
  {
   "cell_type": "code",
   "execution_count": 19,
   "metadata": {},
   "outputs": [
    {
     "name": "stdout",
     "output_type": "stream",
     "text": [
      "10\n",
      "probability of observing this data with coin A 0.20065812480000003\n",
      "probability of observing this data with coin B 0.24609375\n"
     ]
    }
   ],
   "source": [
    "# θA\n",
    "import math\n",
    "theta = θA_init\n",
    "C = lambda n,k: math.factorial(n)//(math.factorial(k)*math.factorial(n-k))\n",
    "print(C(5,3))\n",
    "A_likelihood = C(trials,successes)*theta**successes * (1-theta)**(trials - successes)\n",
    "print(f\"probability of observing this data with coin A {A_likelihood}\")\n",
    "# θB\n",
    "theta = θB_init\n",
    "B_likelihood = C(trials,successes)*theta**successes * (1-theta)**(trials - successes)\n",
    "print(f\"probability of observing this data with coin B {B_likelihood}\")"
   ]
  },
  {
   "cell_type": "markdown",
   "metadata": {},
   "source": [
    "If you refer back to the figure, you'll notice that these values aren't the values assigned to coin A and coin B for trial one. Those values are:\n",
    "\n",
    "![](trial_1_probabilities.png)\n",
    "\n",
    "Have we done something wrong, or are we simply not quite there? I wasn't sure at first, but let's make an intuitive guess. In general, statistical tests always require that your total probability sums to 1. Let's try normalizing our data. Given that we have the probability that this data was generated by fictional coin A and the probability that this data was generated by fictional coin B, we can calculate the total probability that this data was generated by either coin"
   ]
  },
  {
   "cell_type": "code",
   "execution_count": 20,
   "metadata": {},
   "outputs": [],
   "source": [
    "total_likelihood = A_likelihood + B_likelihood"
   ]
  },
  {
   "cell_type": "markdown",
   "metadata": {},
   "source": [
    "This still doesn't sum to 1, but if we normalize our data to this total, then our updated probabilities, which will now be relative to the total probability, should sum to 1"
   ]
  },
  {
   "cell_type": "code",
   "execution_count": 21,
   "metadata": {},
   "outputs": [
    {
     "name": "stdout",
     "output_type": "stream",
     "text": [
      "0.4491489261009365 x A 0.5508510738990636 x B\n"
     ]
    }
   ],
   "source": [
    "A_likelihood = A_likelihood / total_likelihood\n",
    "B_likelihood = B_likelihood / total_likelihood\n",
    "print(f\"{A_likelihood} x A {B_likelihood} x B\")"
   ]
  },
  {
   "cell_type": "markdown",
   "metadata": {},
   "source": [
    "That looks better! And sum to confirm"
   ]
  },
  {
   "cell_type": "code",
   "execution_count": 22,
   "metadata": {},
   "outputs": [
    {
     "data": {
      "text/plain": [
       "1.0"
      ]
     },
     "execution_count": 22,
     "metadata": {},
     "output_type": "execute_result"
    }
   ],
   "source": [
    "A_likelihood + B_likelihood"
   ]
  },
  {
   "cell_type": "markdown",
   "metadata": {},
   "source": [
    "and with simple rounding we arrive at the same numbers as the authors"
   ]
  },
  {
   "cell_type": "code",
   "execution_count": 23,
   "metadata": {},
   "outputs": [
    {
     "name": "stdout",
     "output_type": "stream",
     "text": [
      "0.45 x A 0.55 x B\n"
     ]
    }
   ],
   "source": [
    "print(f\"{round(A_likelihood,2)} x A {round(B_likelihood,2)} x B\")"
   ]
  },
  {
   "cell_type": "markdown",
   "metadata": {},
   "source": [
    "And we match!\n",
    "![](trial_1_probabilities.png)"
   ]
  },
  {
   "cell_type": "markdown",
   "metadata": {},
   "source": [
    "Now that we have calculated the relative likelihood tha each of the two made up coins produced the observed data, let's go ahead and assume that the two made up coins actually did generate this data. We will say that each of the two coins contributed `h` heads and `t` tails. To arrive at this number for each coin, simply multiply the relative probability of each coin by the actual observed numbers for heads and tails of the data"
   ]
  },
  {
   "cell_type": "code",
   "execution_count": 24,
   "metadata": {},
   "outputs": [
    {
     "name": "stdout",
     "output_type": "stream",
     "text": [
      "≈2.2457446305046824H,2.2457446305046824T\n",
      "≈2.754255369495318H,2.754255369495318T\n"
     ]
    }
   ],
   "source": [
    "A_heads = int(Data.loc[0, ['HEADS']].values) * A_likelihood;\n",
    "A_tails = int(Data.loc[0, ['TAILS']].values) * A_likelihood;\n",
    "print(f'≈{A_heads}H,{A_tails}T')\n",
    "B_heads = int(Data.loc[0, ['HEADS']].values) * B_likelihood;\n",
    "B_tails = int(Data.loc[0, ['TAILS']].values) * B_likelihood;\n",
    "print(f'≈{B_heads}H,{B_tails}T')"
   ]
  },
  {
   "cell_type": "markdown",
   "metadata": {},
   "source": [
    "And format the values in a DataFrame for easier viewing"
   ]
  },
  {
   "cell_type": "markdown",
   "metadata": {},
   "source": [
    "![](trial_1_heads_tails_relative_blame.png)\n",
    "\n",
    "Now we are correctly computing the relative contribution of heads and tails for each coin in terms of generating the observed data. \n",
    "\n",
    "This was originally very unintuitive to me, because we know from the original data which coin was actually used to generate each data set. Why would we split responsibility across the two coins? That is a mathematical requirement of the optimization I don't understand. However we can confirm that this is the right approach. [Here is an overview video of the expectation maximization algorithm by Pavel Pevzner from UCSD](https://youtu.be/P1r4RR1goIU?list=PLQ-85lQlPqFMcC2d2CkvmdcJt2v-Np7Cz). I recommend watching the whole playlist of videos, but for the purpose of this tutorial, it's probabily sufficient to watch only the video directly linked to"
   ]
  },
  {
   "cell_type": "markdown",
   "metadata": {},
   "source": [
    "Now let's write a function that computes the relative responsilibity of a generic row with two generic probabilities. This could be extended to accomidate any number of coins though by passing a list of θ's rather than θ1, θ2"
   ]
  },
  {
   "cell_type": "code",
   "execution_count": 25,
   "metadata": {},
   "outputs": [
    {
     "name": "stdout",
     "output_type": "stream",
     "text": [
      "[10 10 10 10 10]\n",
      "9\n"
     ]
    }
   ],
   "source": [
    "import numpy as np\n",
    "len(Data)\n",
    "sigma=Data['HEADS'] + Data['TAILS']\n",
    "sigma=np.reshape(sigma.values,(len(sigma.values)))\n",
    "print(sigma)\n",
    "mid=Data.loc[:, ['HEADS']].values\n",
    "mid=np.reshape(mid,(len(mid)))\n",
    "print(mid[1])"
   ]
  },
  {
   "cell_type": "markdown",
   "metadata": {},
   "source": [
    "And now we will map that function onto each row/trial in our dataframe, using the initial guessed probabilities for each of the two coins."
   ]
  },
  {
   "cell_type": "code",
   "execution_count": 26,
   "metadata": {},
   "outputs": [
    {
     "name": "stdout",
     "output_type": "stream",
     "text": [
      "[[0.44914893 0.80498552 0.73346716 0.35215613 0.64721512]\n",
      " [0.55085107 0.19501448 0.26653284 0.64784387 0.35278488]]\n",
      "5\n"
     ]
    }
   ],
   "source": [
    "# 概率计算\n",
    "def assign_blame(row, θ1, θ2):\n",
    "    successes = row.loc[:, ['HEADS']].values\n",
    "    successes = np.reshape(successes,len(successes))\n",
    "    trials = row.loc[:, ['HEADS']].values + row.loc[:, ['TAILS']].values\n",
    "    trials = np.reshape(trials,len(trials))\n",
    "    probabilities = []\n",
    "    for θ in [θ1, θ2]:\n",
    "        for i in range(len(trials)):\n",
    "            probabilities.append(C(trials[i],successes[i]) * θ**successes[i] * (1-θ)**(trials[i] - successes[i]))\n",
    "    probabilities=np.reshape(probabilities,(2,len(trials)))\n",
    "    total = sum(probabilities)\n",
    "    probabilities = [p/total for p in probabilities]\n",
    "    probabilities = np.array(probabilities)\n",
    "    return probabilities\n",
    "\n",
    "# map the generic input x to the fxn assign blame, passing x, the initial θA and intial θB, passing each row of the\n",
    "# DataFrame Data as the input x\n",
    "blame = assign_blame(Data, θA_init, θB_init) #blame 相当于γ_ij(gamma)\n",
    "\n",
    "# and hcat to merge them into a matrix. However, the generated matrix is a 2x5 matrix, and we want a 5x2 matrix\n",
    "print(blame)\n",
    "print(len(blame[0]))"
   ]
  },
  {
   "cell_type": "markdown",
   "metadata": {},
   "source": [
    "And for the sake of clarity, let's format this to match the format shown in the figure"
   ]
  },
  {
   "cell_type": "code",
   "execution_count": 32,
   "metadata": {},
   "outputs": [
    {
     "name": "stdout",
     "output_type": "stream",
     "text": [
      "[0 3]\n",
      "0.4491489261009365 x A; 0.5508510738990636 x B\n",
      "0.804985517232276 x A; 0.19501448276772407 x B\n",
      "0.7334671580091432 x A; 0.26653284199085686 x B\n",
      "0.3521561338462594 x A; 0.6478438661537407 x B\n",
      "0.6472151158991253 x A; 0.3527848841008746 x B\n"
     ]
    }
   ],
   "source": [
    "datt=[[0,1],[2,3],[4,5]]\n",
    "datt=np.array(datt)\n",
    "print(datt[0]*datt[1])\n",
    "\n",
    "# print(blame[1])\n",
    "for i in range(len(blame[0])):\n",
    "    print(f'{blame[0,i]} x A; {blame[1,i]} x B')\n"
   ]
  },
  {
   "cell_type": "markdown",
   "metadata": {},
   "source": [
    "![](relative_blame.png)"
   ]
  },
  {
   "cell_type": "markdown",
   "metadata": {},
   "source": [
    "Now that we have the relative responsibilites (blame) of each coin, now we count up how many heads and tails each coin deserves based on the level of blame it has. Then recompute probabilities for each coin"
   ]
  },
  {
   "cell_type": "code",
   "execution_count": 28,
   "metadata": {},
   "outputs": [
    {
     "name": "stdout",
     "output_type": "stream",
     "text": [
      "[5 9 8 4 7] [5 1 2 6 3]\n"
     ]
    }
   ],
   "source": [
    "data_h=Data.loc[:, ['HEADS']].values\n",
    "data_h=np.reshape(data_h,len(data_h))\n",
    "data_t=Data.loc[:, ['TAILS']].values\n",
    "data_t=np.reshape(data_t,len(data_t))\n",
    "print(data_h, data_t)"
   ]
  },
  {
   "cell_type": "code",
   "execution_count": 29,
   "metadata": {},
   "outputs": [
    {
     "name": "stdout",
     "output_type": "stream",
     "text": [
      "≈[2.24574463 7.24486966 5.86773726 1.40862454 4.53050581]H,[2.24574463 0.80498552 1.46693432 2.1129368  1.94164535]T\n"
     ]
    }
   ],
   "source": [
    "Aheads = data_h * blame[0,:];\n",
    "Atails = data_t * blame[0,:];\n",
    "print(f'≈{Aheads}H,{Atails}T')"
   ]
  },
  {
   "cell_type": "code",
   "execution_count": 30,
   "metadata": {},
   "outputs": [
    {
     "name": "stdout",
     "output_type": "stream",
     "text": [
      "≈[2.75425537 1.75513034 2.13226274 2.59137546 2.46949419]H,[2.75425537 0.19501448 0.53306568 3.8870632  1.05835465]T\n"
     ]
    }
   ],
   "source": [
    "Bheads = data_h * blame[1,:];\n",
    "Btails = data_t * blame[1,:];\n",
    "print(f'≈{Bheads}H,{Btails}T')"
   ]
  },
  {
   "cell_type": "markdown",
   "metadata": {},
   "source": [
    "Again, let's clean it up for the sake of example"
   ]
  },
  {
   "cell_type": "code",
   "execution_count": 26,
   "metadata": {},
   "outputs": [
    {
     "data": {
      "text/html": [
       "<table class=\"data-frame\"><tr><th></th><th>Coin_A</th><th>Coin_B</th></tr><tr><th>1</th><td>≈2.2 H, 2.2 T</td><td>≈2.8 H, 2.8 T</td></tr><tr><th>2</th><td>≈7.2 H, 0.8 T</td><td>≈1.8 H, 0.2 T</td></tr><tr><th>3</th><td>≈5.9 H, 1.5 T</td><td>≈2.1 H, 0.5 T</td></tr><tr><th>4</th><td>≈1.4 H, 2.1 T</td><td>≈2.6 H, 3.9 T</td></tr><tr><th>5</th><td>≈4.5 H, 1.9 T</td><td>≈2.5 H, 1.1 T</td></tr></table>"
      ],
      "text/plain": [
       "5x2 DataFrames.DataFrame\n",
       "│ Row │ Coin_A          │ Coin_B          │\n",
       "┝━━━━━┿━━━━━━━━━━━━━━━━━┿━━━━━━━━━━━━━━━━━┥\n",
       "│ 1   │ \"≈2.2 H, 2.2 T\" │ \"≈2.8 H, 2.8 T\" │\n",
       "│ 2   │ \"≈7.2 H, 0.8 T\" │ \"≈1.8 H, 0.2 T\" │\n",
       "│ 3   │ \"≈5.9 H, 1.5 T\" │ \"≈2.1 H, 0.5 T\" │\n",
       "│ 4   │ \"≈1.4 H, 2.1 T\" │ \"≈2.6 H, 3.9 T\" │\n",
       "│ 5   │ \"≈4.5 H, 1.9 T\" │ \"≈2.5 H, 1.1 T\" │"
      ]
     },
     "execution_count": 26,
     "metadata": {},
     "output_type": "execute_result"
    }
   ],
   "source": [
    "relative_blame = DataFrame(Coin_A = [\"≈$(fmt(\".1f\", CoinA[i,1])) H, $(fmt(\".1f\", CoinA[i,2])) T\" for i = 1:size(CoinA, 1)],\n",
    "        Coin_B = [\"≈$(fmt(\".1f\", CoinB[i,1])) H, $(fmt(\".1f\", CoinB[i,2])) T\" for i = 1:size(CoinB, 1)])"
   ]
  },
  {
   "cell_type": "markdown",
   "metadata": {},
   "source": [
    "![](relative_heads_and_tails.png)"
   ]
  },
  {
   "cell_type": "markdown",
   "metadata": {},
   "source": [
    "Great! However, if we want to update our guess about the maximum likelihood probability of each of our made up coins, we need to calculate\n",
    "\n",
    "$$ \\hat{\\theta}_A = \\frac{\\text{total heads coin A}}{\\text{total heads + total tails coin A}}$$"
   ]
  },
  {
   "cell_type": "code",
   "execution_count": 27,
   "metadata": {},
   "outputs": [
    {
     "data": {
      "text/html": [
       "<table class=\"data-frame\"><tr><th></th><th>Coin_A</th><th>Coin_B</th></tr><tr><th>1</th><td>≈2.2 H, 2.2 T</td><td>≈2.8 H, 2.8 T</td></tr><tr><th>2</th><td>≈7.2 H, 0.8 T</td><td>≈1.8 H, 0.2 T</td></tr><tr><th>3</th><td>≈5.9 H, 1.5 T</td><td>≈2.1 H, 0.5 T</td></tr><tr><th>4</th><td>≈1.4 H, 2.1 T</td><td>≈2.6 H, 3.9 T</td></tr><tr><th>5</th><td>≈4.5 H, 1.9 T</td><td>≈2.5 H, 1.1 T</td></tr><tr><th>6</th><td>≈21.3 H, 8.6 T</td><td>≈11.7 H, 8.4 T</td></tr></table>"
      ],
      "text/plain": [
       "6x2 DataFrames.DataFrame\n",
       "│ Row │ Coin_A           │ Coin_B           │\n",
       "┝━━━━━┿━━━━━━━━━━━━━━━━━━┿━━━━━━━━━━━━━━━━━━┥\n",
       "│ 1   │ \"≈2.2 H, 2.2 T\"  │ \"≈2.8 H, 2.8 T\"  │\n",
       "│ 2   │ \"≈7.2 H, 0.8 T\"  │ \"≈1.8 H, 0.2 T\"  │\n",
       "│ 3   │ \"≈5.9 H, 1.5 T\"  │ \"≈2.1 H, 0.5 T\"  │\n",
       "│ 4   │ \"≈1.4 H, 2.1 T\"  │ \"≈2.6 H, 3.9 T\"  │\n",
       "│ 5   │ \"≈4.5 H, 1.9 T\"  │ \"≈2.5 H, 1.1 T\"  │\n",
       "│ 6   │ \"≈21.3 H, 8.6 T\" │ \"≈11.7 H, 8.4 T\" │"
      ]
     },
     "execution_count": 27,
     "metadata": {},
     "output_type": "execute_result"
    }
   ],
   "source": [
    "CoinATotals = \"≈$(fmt(\".1f\", sum(Aheads))) H, $(fmt(\".1f\", sum(Atails))) T\"\n",
    "CoinBTotals = \"≈$(fmt(\".1f\", sum(Bheads))) H, $(fmt(\".1f\", sum(Btails))) T\"\n",
    "TotalsRow = DataFrame(Coin_A = CoinATotals, Coin_B = CoinBTotals)\n",
    "vcat(relative_blame, TotalsRow)"
   ]
  },
  {
   "cell_type": "markdown",
   "metadata": {},
   "source": [
    "And again, we match\n",
    "![](relative_blame_with_totals.png)"
   ]
  },
  {
   "cell_type": "markdown",
   "metadata": {},
   "source": [
    "We're now all set to compute the values, so let's get on with it"
   ]
  },
  {
   "cell_type": "code",
   "execution_count": 33,
   "metadata": {},
   "outputs": [
    {
     "name": "stdout",
     "output_type": "stream",
     "text": [
      "[0.5 0.9 0.8 0.4 0.7]\n"
     ]
    }
   ],
   "source": [
    "θ_sample=data_h/(data_h+data_t)\n",
    "print(θ_sample)"
   ]
  },
  {
   "cell_type": "code",
   "execution_count": 34,
   "metadata": {},
   "outputs": [
    {
     "name": "stdout",
     "output_type": "stream",
     "text": [
      "new θA ≈ 0.713012235400516\n",
      "new θB ≈ 0.5813393083136625\n"
     ]
    }
   ],
   "source": [
    "# θA_new = sum(Aheads)/sum(Aheads + Atails)\n",
    "# θB_new = sum(Bheads)/sum(Bheads + Btails)\n",
    "θA_new = sum(blame[0]*θ_sample)/sum(blame[0])\n",
    "θB_new = sum(blame[1]*θ_sample)/sum(blame[1])\n",
    "print(f\"new θA ≈ {θA_new}\")\n",
    "print(f\"new θB ≈ {θB_new}\")"
   ]
  },
  {
   "cell_type": "markdown",
   "metadata": {},
   "source": [
    "![](recalculate.png)"
   ]
  },
  {
   "cell_type": "markdown",
   "metadata": {},
   "source": [
    "That's a match! Now, let's put out thetas into a DataFrame to keep track of our iterations"
   ]
  },
  {
   "cell_type": "code",
   "execution_count": 35,
   "metadata": {},
   "outputs": [
    {
     "data": {
      "text/html": [
       "<div>\n",
       "<style scoped>\n",
       "    .dataframe tbody tr th:only-of-type {\n",
       "        vertical-align: middle;\n",
       "    }\n",
       "\n",
       "    .dataframe tbody tr th {\n",
       "        vertical-align: top;\n",
       "    }\n",
       "\n",
       "    .dataframe thead th {\n",
       "        text-align: right;\n",
       "    }\n",
       "</style>\n",
       "<table border=\"1\" class=\"dataframe\">\n",
       "  <thead>\n",
       "    <tr style=\"text-align: right;\">\n",
       "      <th></th>\n",
       "      <th>θA</th>\n",
       "      <th>θB</th>\n",
       "    </tr>\n",
       "  </thead>\n",
       "  <tbody>\n",
       "    <tr>\n",
       "      <th>0</th>\n",
       "      <td>0.713012</td>\n",
       "      <td>0.581339</td>\n",
       "    </tr>\n",
       "  </tbody>\n",
       "</table>\n",
       "</div>"
      ],
      "text/plain": [
       "         θA        θB\n",
       "0  0.713012  0.581339"
      ]
     },
     "execution_count": 35,
     "metadata": {},
     "output_type": "execute_result"
    }
   ],
   "source": [
    "Thetas = pd.DataFrame({'θA' : [θA_new], 'θB' : [θB_new]})\n",
    "Thetas"
   ]
  },
  {
   "cell_type": "markdown",
   "metadata": {},
   "source": [
    "And there you have it. You've successfully walked through the first iteration of the expectation maximization algorithm as it applies to the example in Figure 1 of Do & Batzoglou 2008!\n",
    "\n",
    "However, the true power of the expectation maximization algorithm is the result of it's iterative potential. Normally, this algorithm will be run until a certain level of convergence is reached. In practice, this can be set to some level of change, such as when your updated thetas change by less than .001 between iterations. Do & Batzoglou 2008 show final output after 10 iterations, so let's go with that\n",
    "\n",
    "![](convergence.png)"
   ]
  },
  {
   "cell_type": "code",
   "execution_count": 36,
   "metadata": {},
   "outputs": [
    {
     "name": "stdout",
     "output_type": "stream",
     "text": [
      "9\n"
     ]
    },
    {
     "data": {
      "text/plain": [
       "0.713012235400516"
      ]
     },
     "execution_count": 36,
     "metadata": {},
     "output_type": "execute_result"
    }
   ],
   "source": [
    "li=list(range(1,10))\n",
    "print(li[-1])\n",
    "Thetas.values[-1][0]"
   ]
  },
  {
   "cell_type": "code",
   "execution_count": 39,
   "metadata": {},
   "outputs": [],
   "source": [
    "for i in range(20):\n",
    "    # returns an array of arrays\n",
    "    blame = assign_blame(Data, Thetas.values[-1][0], Thetas.values[-1][1])\n",
    "    \n",
    "    Aheads = data_h * blame[0,:]\n",
    "    Atails = data_t * blame[0,:]\n",
    "    \n",
    "    Bheads = data_h * blame[1,:]\n",
    "    Btails = data_t * blame[1,:]\n",
    "    \n",
    "#     θA_new = sum(Aheads)/sum(Aheads + Atails)\n",
    "#     θB_new = sum(Bheads)/sum(Bheads + Btails)\n",
    "    θA_new = sum(blame[0]*θ_sample)/sum(blame[0])\n",
    "    θB_new = sum(blame[1]*θ_sample)/sum(blame[1])\n",
    "    \n",
    "    Thetas = Thetas.append({'θA':θA_new, 'θB':θB_new},ignore_index=True)\n"
   ]
  },
  {
   "cell_type": "markdown",
   "metadata": {},
   "source": [
    "And let's see what our final thetas are after 10 iterations by grabbing θA and θB from the Thetas DataFrame at row 10. Remember we are appending each successive iteration as a new row"
   ]
  },
  {
   "cell_type": "code",
   "execution_count": 40,
   "metadata": {},
   "outputs": [
    {
     "data": {
      "text/html": [
       "<div>\n",
       "<style scoped>\n",
       "    .dataframe tbody tr th:only-of-type {\n",
       "        vertical-align: middle;\n",
       "    }\n",
       "\n",
       "    .dataframe tbody tr th {\n",
       "        vertical-align: top;\n",
       "    }\n",
       "\n",
       "    .dataframe thead th {\n",
       "        text-align: right;\n",
       "    }\n",
       "</style>\n",
       "<table border=\"1\" class=\"dataframe\">\n",
       "  <thead>\n",
       "    <tr style=\"text-align: right;\">\n",
       "      <th></th>\n",
       "      <th>θA</th>\n",
       "      <th>θB</th>\n",
       "    </tr>\n",
       "  </thead>\n",
       "  <tbody>\n",
       "    <tr>\n",
       "      <th>0</th>\n",
       "      <td>0.713012</td>\n",
       "      <td>0.581339</td>\n",
       "    </tr>\n",
       "    <tr>\n",
       "      <th>1</th>\n",
       "      <td>0.745292</td>\n",
       "      <td>0.569256</td>\n",
       "    </tr>\n",
       "    <tr>\n",
       "      <th>2</th>\n",
       "      <td>0.768099</td>\n",
       "      <td>0.549536</td>\n",
       "    </tr>\n",
       "    <tr>\n",
       "      <th>3</th>\n",
       "      <td>0.783165</td>\n",
       "      <td>0.534617</td>\n",
       "    </tr>\n",
       "    <tr>\n",
       "      <th>4</th>\n",
       "      <td>0.791055</td>\n",
       "      <td>0.526281</td>\n",
       "    </tr>\n",
       "    <tr>\n",
       "      <th>5</th>\n",
       "      <td>0.794533</td>\n",
       "      <td>0.522390</td>\n",
       "    </tr>\n",
       "    <tr>\n",
       "      <th>6</th>\n",
       "      <td>0.795929</td>\n",
       "      <td>0.520730</td>\n",
       "    </tr>\n",
       "    <tr>\n",
       "      <th>7</th>\n",
       "      <td>0.796466</td>\n",
       "      <td>0.520047</td>\n",
       "    </tr>\n",
       "    <tr>\n",
       "      <th>8</th>\n",
       "      <td>0.796668</td>\n",
       "      <td>0.519770</td>\n",
       "    </tr>\n",
       "    <tr>\n",
       "      <th>9</th>\n",
       "      <td>0.796744</td>\n",
       "      <td>0.519659</td>\n",
       "    </tr>\n",
       "    <tr>\n",
       "      <th>10</th>\n",
       "      <td>0.796772</td>\n",
       "      <td>0.519614</td>\n",
       "    </tr>\n",
       "    <tr>\n",
       "      <th>11</th>\n",
       "      <td>0.796783</td>\n",
       "      <td>0.519595</td>\n",
       "    </tr>\n",
       "    <tr>\n",
       "      <th>12</th>\n",
       "      <td>0.796787</td>\n",
       "      <td>0.519588</td>\n",
       "    </tr>\n",
       "    <tr>\n",
       "      <th>13</th>\n",
       "      <td>0.796788</td>\n",
       "      <td>0.519585</td>\n",
       "    </tr>\n",
       "    <tr>\n",
       "      <th>14</th>\n",
       "      <td>0.796789</td>\n",
       "      <td>0.519584</td>\n",
       "    </tr>\n",
       "    <tr>\n",
       "      <th>15</th>\n",
       "      <td>0.796789</td>\n",
       "      <td>0.519583</td>\n",
       "    </tr>\n",
       "    <tr>\n",
       "      <th>16</th>\n",
       "      <td>0.796789</td>\n",
       "      <td>0.519583</td>\n",
       "    </tr>\n",
       "    <tr>\n",
       "      <th>17</th>\n",
       "      <td>0.796789</td>\n",
       "      <td>0.519583</td>\n",
       "    </tr>\n",
       "    <tr>\n",
       "      <th>18</th>\n",
       "      <td>0.796789</td>\n",
       "      <td>0.519583</td>\n",
       "    </tr>\n",
       "    <tr>\n",
       "      <th>19</th>\n",
       "      <td>0.796789</td>\n",
       "      <td>0.519583</td>\n",
       "    </tr>\n",
       "    <tr>\n",
       "      <th>20</th>\n",
       "      <td>0.796789</td>\n",
       "      <td>0.519583</td>\n",
       "    </tr>\n",
       "    <tr>\n",
       "      <th>21</th>\n",
       "      <td>0.796789</td>\n",
       "      <td>0.519583</td>\n",
       "    </tr>\n",
       "    <tr>\n",
       "      <th>22</th>\n",
       "      <td>0.796789</td>\n",
       "      <td>0.519583</td>\n",
       "    </tr>\n",
       "    <tr>\n",
       "      <th>23</th>\n",
       "      <td>0.796789</td>\n",
       "      <td>0.519583</td>\n",
       "    </tr>\n",
       "    <tr>\n",
       "      <th>24</th>\n",
       "      <td>0.796789</td>\n",
       "      <td>0.519583</td>\n",
       "    </tr>\n",
       "    <tr>\n",
       "      <th>25</th>\n",
       "      <td>0.796789</td>\n",
       "      <td>0.519583</td>\n",
       "    </tr>\n",
       "    <tr>\n",
       "      <th>26</th>\n",
       "      <td>0.796789</td>\n",
       "      <td>0.519583</td>\n",
       "    </tr>\n",
       "    <tr>\n",
       "      <th>27</th>\n",
       "      <td>0.796789</td>\n",
       "      <td>0.519583</td>\n",
       "    </tr>\n",
       "    <tr>\n",
       "      <th>28</th>\n",
       "      <td>0.796789</td>\n",
       "      <td>0.519583</td>\n",
       "    </tr>\n",
       "    <tr>\n",
       "      <th>29</th>\n",
       "      <td>0.796789</td>\n",
       "      <td>0.519583</td>\n",
       "    </tr>\n",
       "    <tr>\n",
       "      <th>30</th>\n",
       "      <td>0.796789</td>\n",
       "      <td>0.519583</td>\n",
       "    </tr>\n",
       "    <tr>\n",
       "      <th>31</th>\n",
       "      <td>0.796789</td>\n",
       "      <td>0.519583</td>\n",
       "    </tr>\n",
       "    <tr>\n",
       "      <th>32</th>\n",
       "      <td>0.796789</td>\n",
       "      <td>0.519583</td>\n",
       "    </tr>\n",
       "    <tr>\n",
       "      <th>33</th>\n",
       "      <td>0.796789</td>\n",
       "      <td>0.519583</td>\n",
       "    </tr>\n",
       "    <tr>\n",
       "      <th>34</th>\n",
       "      <td>0.796789</td>\n",
       "      <td>0.519583</td>\n",
       "    </tr>\n",
       "    <tr>\n",
       "      <th>35</th>\n",
       "      <td>0.796789</td>\n",
       "      <td>0.519583</td>\n",
       "    </tr>\n",
       "    <tr>\n",
       "      <th>36</th>\n",
       "      <td>0.796789</td>\n",
       "      <td>0.519583</td>\n",
       "    </tr>\n",
       "    <tr>\n",
       "      <th>37</th>\n",
       "      <td>0.796789</td>\n",
       "      <td>0.519583</td>\n",
       "    </tr>\n",
       "    <tr>\n",
       "      <th>38</th>\n",
       "      <td>0.796789</td>\n",
       "      <td>0.519583</td>\n",
       "    </tr>\n",
       "    <tr>\n",
       "      <th>39</th>\n",
       "      <td>0.796789</td>\n",
       "      <td>0.519583</td>\n",
       "    </tr>\n",
       "    <tr>\n",
       "      <th>40</th>\n",
       "      <td>0.796789</td>\n",
       "      <td>0.519583</td>\n",
       "    </tr>\n",
       "  </tbody>\n",
       "</table>\n",
       "</div>"
      ],
      "text/plain": [
       "          θA        θB\n",
       "0   0.713012  0.581339\n",
       "1   0.745292  0.569256\n",
       "2   0.768099  0.549536\n",
       "3   0.783165  0.534617\n",
       "4   0.791055  0.526281\n",
       "5   0.794533  0.522390\n",
       "6   0.795929  0.520730\n",
       "7   0.796466  0.520047\n",
       "8   0.796668  0.519770\n",
       "9   0.796744  0.519659\n",
       "10  0.796772  0.519614\n",
       "11  0.796783  0.519595\n",
       "12  0.796787  0.519588\n",
       "13  0.796788  0.519585\n",
       "14  0.796789  0.519584\n",
       "15  0.796789  0.519583\n",
       "16  0.796789  0.519583\n",
       "17  0.796789  0.519583\n",
       "18  0.796789  0.519583\n",
       "19  0.796789  0.519583\n",
       "20  0.796789  0.519583\n",
       "21  0.796789  0.519583\n",
       "22  0.796789  0.519583\n",
       "23  0.796789  0.519583\n",
       "24  0.796789  0.519583\n",
       "25  0.796789  0.519583\n",
       "26  0.796789  0.519583\n",
       "27  0.796789  0.519583\n",
       "28  0.796789  0.519583\n",
       "29  0.796789  0.519583\n",
       "30  0.796789  0.519583\n",
       "31  0.796789  0.519583\n",
       "32  0.796789  0.519583\n",
       "33  0.796789  0.519583\n",
       "34  0.796789  0.519583\n",
       "35  0.796789  0.519583\n",
       "36  0.796789  0.519583\n",
       "37  0.796789  0.519583\n",
       "38  0.796789  0.519583\n",
       "39  0.796789  0.519583\n",
       "40  0.796789  0.519583"
      ]
     },
     "execution_count": 40,
     "metadata": {},
     "output_type": "execute_result"
    }
   ],
   "source": [
    "Thetas\n",
    "# println(f\"θA 10 ≈ Thetas[10, :θA]))\")\n",
    "# println(\"θB 10 ≈ $(fmt(\".2f\", Thetas[10, :θB]))\")"
   ]
  },
  {
   "cell_type": "markdown",
   "metadata": {},
   "source": [
    "Answers match!\n",
    "\n",
    "![](tenth_iteration.png)"
   ]
  },
  {
   "cell_type": "markdown",
   "metadata": {},
   "source": [
    "And that's a walkthrough of the entire Expectation Maximization algorithm as it applies to Figure 1 from Do & Batzoglou 2008\n",
    "\n",
    "![](Figure1.png)"
   ]
  },
  {
   "cell_type": "markdown",
   "metadata": {},
   "source": [
    "Next steps:\n",
    "1. try starting from randomly seeded start probabilities\n",
    "1. implement a dynamic cut off that terminates the EM iterations when we see reduced improvement to the point that we claim convergence"
   ]
  },
  {
   "cell_type": "code",
   "execution_count": 41,
   "metadata": {},
   "outputs": [
    {
     "name": "stdout",
     "output_type": "stream",
     "text": [
      "[[0.10300871 0.95201348 0.84549373 0.03070315 0.6014986 ]\n",
      " [0.89699129 0.04798652 0.15450627 0.96929685 0.3985014 ]]\n"
     ]
    }
   ],
   "source": [
    "print(blame)"
   ]
  },
  {
   "cell_type": "code",
   "execution_count": 46,
   "metadata": {},
   "outputs": [
    {
     "name": "stdout",
     "output_type": "stream",
     "text": [
      "[1 0 0 1 0]\n"
     ]
    },
    {
     "data": {
      "text/html": [
       "<div>\n",
       "<style scoped>\n",
       "    .dataframe tbody tr th:only-of-type {\n",
       "        vertical-align: middle;\n",
       "    }\n",
       "\n",
       "    .dataframe tbody tr th {\n",
       "        vertical-align: top;\n",
       "    }\n",
       "\n",
       "    .dataframe thead th {\n",
       "        text-align: right;\n",
       "    }\n",
       "</style>\n",
       "<table border=\"1\" class=\"dataframe\">\n",
       "  <thead>\n",
       "    <tr style=\"text-align: right;\">\n",
       "      <th></th>\n",
       "      <th>Coin A</th>\n",
       "      <th>Coin B</th>\n",
       "    </tr>\n",
       "  </thead>\n",
       "  <tbody>\n",
       "    <tr>\n",
       "      <th>0</th>\n",
       "      <td>[2, 3, 5]</td>\n",
       "      <td>[1, 4]</td>\n",
       "    </tr>\n",
       "  </tbody>\n",
       "</table>\n",
       "</div>"
      ],
      "text/plain": [
       "      Coin A  Coin B\n",
       "0  [2, 3, 5]  [1, 4]"
      ]
     },
     "execution_count": 46,
     "metadata": {},
     "output_type": "execute_result"
    }
   ],
   "source": [
    "# 分类，判断coin属于A=0或B=1\n",
    "C_coin=np.argmax(blame, axis=0)\n",
    "print(C_coin)\n",
    "Agroup=[]\n",
    "Bgroup=[]\n",
    "for i in range(len(C_coin)):\n",
    "    if C_coin[i]==0:\n",
    "        Agroup.append(i+1)\n",
    "    else:\n",
    "        Bgroup.append(i+1)\n",
    "Class_data = pd.DataFrame({'Coin A' : [Agroup], 'Coin B' : [Bgroup]})\n",
    "Class_data"
   ]
  },
  {
   "cell_type": "code",
   "execution_count": null,
   "metadata": {},
   "outputs": [],
   "source": []
  }
 ],
 "metadata": {
  "kernelspec": {
   "display_name": "Python 3",
   "language": "python",
   "name": "python3"
  },
  "language_info": {
   "codemirror_mode": {
    "name": "ipython",
    "version": 3
   },
   "file_extension": ".py",
   "mimetype": "text/x-python",
   "name": "python",
   "nbconvert_exporter": "python",
   "pygments_lexer": "ipython3",
   "version": "3.8.5"
  }
 },
 "nbformat": 4,
 "nbformat_minor": 1
}
